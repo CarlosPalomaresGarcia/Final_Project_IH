{
 "cells": [
  {
   "cell_type": "code",
   "execution_count": 1,
   "metadata": {},
   "outputs": [],
   "source": [
    "import pandas as pd\n",
    "import numpy as np"
   ]
  },
  {
   "cell_type": "code",
   "execution_count": 15,
   "metadata": {},
   "outputs": [],
   "source": [
    "netflix_film = pd.read_csv('../Netflix/netflix_titles.csv')\n",
    "netflix_actor = pd.read_csv('../Netflix/netflix_credits.csv')\n",
    "\n",
    "hbo_film = pd.read_csv('../HBO Max/hbo_titles.csv')\n",
    "hbo_actor = pd.read_csv('../HBO Max/hbo_credits.csv')\n",
    "\n",
    "disney_film = pd.read_csv('../Disney +/disney_titles.csv')\n",
    "disney_actor = pd.read_csv('../Disney +/disney_credits.csv')\n",
    "\n",
    "amazon_film = pd.read_csv('../Amazon Prime Video/amazon_titles.csv')\n",
    "amazon_actor = pd.read_csv('../Amazon Prime Video/amazon_credits.csv')\n"
   ]
  },
  {
   "cell_type": "code",
   "execution_count": null,
   "metadata": {},
   "outputs": [],
   "source": []
  }
 ],
 "metadata": {
  "kernelspec": {
   "display_name": "base",
   "language": "python",
   "name": "python3"
  },
  "language_info": {
   "codemirror_mode": {
    "name": "ipython",
    "version": 3
   },
   "file_extension": ".py",
   "mimetype": "text/x-python",
   "name": "python",
   "nbconvert_exporter": "python",
   "pygments_lexer": "ipython3",
   "version": "3.9.13"
  },
  "orig_nbformat": 4
 },
 "nbformat": 4,
 "nbformat_minor": 2
}
