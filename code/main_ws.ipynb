{
 "cells": [
  {
   "cell_type": "code",
   "execution_count": 1,
   "metadata": {},
   "outputs": [],
   "source": [
    "import pandas as pd\n",
    "\n",
    "#Selenium\n",
    "from webdriver_manager.chrome import ChromeDriverManager\n",
    "from selenium.webdriver.common.by import By \n",
    "from selenium.webdriver.support.ui import WebDriverWait\n",
    "from selenium import webdriver\n",
    "from selenium.webdriver.chrome.options import Options\n",
    "from selenium.webdriver.chrome.service import Service\n",
    "from selenium.webdriver.support import expected_conditions as EC\n",
    "from selenium.common.exceptions import TimeoutException\n",
    "from selenium.common.exceptions import NoSuchElementException\n",
    "\n",
    "\n",
    "import time"
   ]
  },
  {
   "cell_type": "code",
   "execution_count": 2,
   "metadata": {},
   "outputs": [
    {
     "name": "stderr",
     "output_type": "stream",
     "text": [
      "C:\\Users\\carlo\\AppData\\Local\\Temp\\ipykernel_8368\\1130618026.py:6: DeprecationWarning: headless property is deprecated, instead use add_argument('--headless') or add_argument('--headless=new')\n",
      "  opciones.headless=False    # si True, no aperece la ventana (headless=no visible)\n"
     ]
    }
   ],
   "source": [
    "#driver configuration\n",
    "opciones=Options()\n",
    "\n",
    "opciones.add_experimental_option('excludeSwitches', ['enable-automation'])\n",
    "opciones.add_experimental_option('useAutomationExtension', False)\n",
    "opciones.headless=False    # si True, no aperece la ventana (headless=no visible)\n",
    "opciones.add_argument('--start-maximized')         # comienza maximizado\n",
    "opciones.add_argument('user-data-dir=selenium')    # mantiene las cookies\n",
    "opciones.add_argument('--incognito')"
   ]
  },
  {
   "cell_type": "code",
   "execution_count": 3,
   "metadata": {},
   "outputs": [],
   "source": [
    "url_netflix = 'https://www.justwatch.com/es/proveedor/netflix'\n",
    "url_amazon = 'https://www.justwatch.com/es/proveedor/amazon-prime-video'\n",
    "url_disney = 'https://www.justwatch.com/es/proveedor/disney-plus'\n",
    "url_hbo = 'https://www.justwatch.com/es/proveedor/hbo-max'"
   ]
  },
  {
   "cell_type": "code",
   "execution_count": 4,
   "metadata": {},
   "outputs": [],
   "source": [
    "from selenium.webdriver.chrome.options import Options\n",
    "\n",
    "# opciones del driver\n",
    "opciones=Options()\n",
    "\n",
    "# quita la bandera de ser robot\n",
    "opciones.add_experimental_option('excludeSwitches', ['enable-automation'])\n",
    "opciones.add_experimental_option('useAutomationExtension', False)\n",
    "\n",
    "# guardar las cookies\n",
    "opciones.add_argument('user-data-dir=cookies')    # mantiene las coockies\n",
    "\n",
    "# quita la bandera de ser robot\n",
    "opciones.add_experimental_option('excludeSwitches', ['enable-automation'])\n",
    "opciones.add_experimental_option('useAutomationExtension', False)"
   ]
  },
  {
   "cell_type": "code",
   "execution_count": 5,
   "metadata": {},
   "outputs": [
    {
     "name": "stderr",
     "output_type": "stream",
     "text": [
      "C:\\Users\\carlo\\AppData\\Local\\Temp\\ipykernel_8368\\1453511477.py:3: DeprecationWarning: executable_path has been deprecated, please pass in a Service object\n",
      "  driver = webdriver.Chrome(PATH)      # abre una ventana de chrome\n"
     ]
    }
   ],
   "source": [
    "PATH = ChromeDriverManager().install()    # instala driver de chrome\n",
    "\n",
    "driver = webdriver.Chrome(PATH)      # abre una ventana de chrome\n",
    "\n",
    "# Navegar a la página\n",
    "driver.get('https://www.justwatch.com/es/proveedor/netflix')\n",
    "\n",
    "time.sleep(5)\n",
    "\n",
    "shadow_parent = driver.find_element(By.CSS_SELECTOR, '#usercentrics-root')\n",
    "outer = driver.execute_script('return arguments[0].shadowRoot', shadow_parent)\n",
    "inner = outer.find_element(By.CSS_SELECTOR, 'button[data-testid=\"uc-accept-all-button\"]')\n",
    "inner.click()\n",
    "\n",
    "time.sleep(5)\n",
    "\n",
    "for i in range(60):\n",
    "    driver.execute_script(\"window.scrollTo(0, document.body.scrollHeight);\") # todo el scroll\n",
    "    time.sleep(3)\n",
    "\n",
    "\n",
    "# Sacar los nombres de las peliculas\n",
    "results_netflix = driver.find_elements(By.CLASS_NAME,'title-list-grid__item--link')\n",
    "results_netflix\n",
    "\n",
    "hipervinculos = []\n",
    "for link in results_netflix:\n",
    "    link = link.get_attribute('href')\n",
    "    hipervinculos.append(link)\n",
    "\n",
    "titles_netflix = []\n",
    "for url in hipervinculos:\n",
    "    parts = url.split('/')\n",
    "    last_part = parts[-1]\n",
    "    title = last_part.replace('-', ' ')\n",
    "    title = title.capitalize()\n",
    "    titles_netflix.append(title)\n",
    "    \n",
    "titles_netflix\n",
    "\n",
    "# Cerrar el navegador\n",
    "driver.quit()"
   ]
  },
  {
   "cell_type": "code",
   "execution_count": 6,
   "metadata": {},
   "outputs": [
    {
     "data": {
      "text/plain": [
       "['https://www.justwatch.com/es/serie/bridgerton-young-queen-charlotte-spinoff',\n",
       " 'https://www.justwatch.com/es/serie/el-silencio',\n",
       " 'https://www.justwatch.com/es/pelicula/spider-man-un-nuevo-universo',\n",
       " 'https://www.justwatch.com/es/serie/la-caza-monteperdido',\n",
       " 'https://www.justwatch.com/es/serie/the-diplomat',\n",
       " 'https://www.justwatch.com/es/serie/fubar',\n",
       " 'https://www.justwatch.com/es/serie/the-good-doctor',\n",
       " 'https://www.justwatch.com/es/serie/beef',\n",
       " 'https://www.justwatch.com/es/serie/better-call-saul',\n",
       " 'https://www.justwatch.com/es/serie/black-knight']"
      ]
     },
     "execution_count": 6,
     "metadata": {},
     "output_type": "execute_result"
    }
   ],
   "source": [
    "hipervinculos_prueba = hipervinculos[0:10]\n",
    "hipervinculos_prueba"
   ]
  },
  {
   "attachments": {},
   "cell_type": "markdown",
   "metadata": {},
   "source": [
    "PATH = ChromeDriverManager().install()    # instala driver de chrome\n",
    "\n",
    "driver = webdriver.Chrome(PATH)      # abre una ventana de chrome\n",
    "\n",
    "driver.get('https://www.justwatch.com/es/serie/bridgerton-young-queen-charlotte-spinoff')\n",
    "\n",
    "time.sleep(3)\n",
    "\n",
    "shadow_parent = driver.find_element(By.CSS_SELECTOR, '#usercentrics-root')\n",
    "outer = driver.execute_script('return arguments[0].shadowRoot', shadow_parent)\n",
    "inner = outer.find_element(By.CSS_SELECTOR, 'button[data-testid=\"uc-accept-all-button\"]')\n",
    "inner.click()\n",
    "\n",
    "genero = driver.find_elements(By.CLASS_NAME, 'detail-infos__value')\n",
    "\n",
    "lista_genero = []\n",
    "for gen in genero:\n",
    "    gen = gen.text.strip()\n",
    "    lista_genero.append(gen)\n",
    "\n",
    "lista_genero = lista_genero[1]\n",
    "\n",
    "\n",
    "rating = driver.find_element(By.CLASS_NAME, 'jw-scoring-listing__rating').text"
   ]
  },
  {
   "cell_type": "code",
   "execution_count": 8,
   "metadata": {},
   "outputs": [
    {
     "name": "stderr",
     "output_type": "stream",
     "text": [
      "C:\\Users\\carlo\\AppData\\Local\\Temp\\ipykernel_8368\\3121780021.py:12: DeprecationWarning: executable_path has been deprecated, please pass in a Service object\n",
      "  driver = webdriver.Chrome(PATH)      # abre una ventana de chrome\n"
     ]
    }
   ],
   "source": [
    "titulos_lista_netflix = []\n",
    "año_lista_netflix = []\n",
    "genero_lista_netflix = []\n",
    "actores_lista_netflix = []\n",
    "rating_lista_netflix = []\n",
    "sinopsis_lista_netflix = []\n",
    "\n",
    "for i in hipervinculos_prueba:\n",
    "\n",
    "    PATH = ChromeDriverManager().install()    # instala driver de chrome\n",
    "\n",
    "    driver = webdriver.Chrome(PATH)      # abre una ventana de chrome\n",
    "\n",
    "    driver.get(i)\n",
    "\n",
    "    time.sleep(5)\n",
    "\n",
    "    shadow_parent = driver.find_element(By.CSS_SELECTOR, '#usercentrics-root')\n",
    "    outer = driver.execute_script('return arguments[0].shadowRoot', shadow_parent)\n",
    "    inner = outer.find_element(By.CSS_SELECTOR, 'button[data-testid=\"uc-accept-all-button\"]')\n",
    "    inner.click()\n",
    "\n",
    "\n",
    "    # driver.execute_script(\"window.scrollTo(0, document.body.scrollHeight);\") # todo el scroll\n",
    "\n",
    "\n",
    "    try:\n",
    "        titulo = driver.find_element(By.XPATH, '//*[@id=\"base\"]/div[2]/div/div[2]/div[2]/div[1]/div[1]/div/h1').text\n",
    "        \n",
    "    except NoSuchElementException:\n",
    "        try:\n",
    "            titulo = driver.find_element(By.XPATH, '//*[@id=\"base\"]/div[2]/div/div[2]/div[2]/div[1]/div[1]/div/h1').text\n",
    "        except NoSuchElementException:\n",
    "                titulo = \"NAN\"\n",
    "                pass\n",
    "\n",
    "      \n",
    "    try:\n",
    "        año = driver.find_element(By.XPATH, '//*[@id=\"base\"]/div[2]/div/div[2]/div[2]/div[1]/div[1]/div/span').text.split('(')[1]\n",
    "        año = año.split(')')[0]\n",
    "        \n",
    "    except NoSuchElementException:\n",
    "        try:\n",
    "            año = driver.find_element(By.XPATH, '//*[@id=\"base\"]/div[2]/div/div[2]/div[2]/div[1]/div[1]/div/span').text.split('(')[1]\n",
    "            año = año.split(')')[0]\n",
    "        except NoSuchElementException:\n",
    "                año = \"NAN\"\n",
    "                pass\n",
    "        \n",
    "    try:\n",
    "        genero = driver.find_elements(By.CLASS_NAME, 'detail-infos__value')\n",
    "        \n",
    "    except NoSuchElementException:\n",
    "        try:\n",
    "            genero = driver.find_elements(By.CLASS_NAME, 'detail-infos__value')\n",
    "        except NoSuchElementException:\n",
    "                genero = \"NAN\"\n",
    "                pass\n",
    "        \n",
    "    lista_genero = []\n",
    "    for gen in genero:\n",
    "        gen = gen.text.strip()\n",
    "        lista_genero.append(gen)\n",
    "\n",
    "    genero = lista_genero[1]\n",
    "\n",
    "\n",
    "    try:\n",
    "        rating = driver.find_element(By.CLASS_NAME, 'jw-scoring-listing__rating').text\n",
    "        \n",
    "    except NoSuchElementException:\n",
    "        try:\n",
    "            rating = driver.find_element(By.CLASS_NAME, 'jw-scoring-listing__rating').text\n",
    "        except NoSuchElementException:\n",
    "                rating = \"NAN\"\n",
    "                pass\n",
    "\n",
    "\n",
    "    try:\n",
    "        actores = driver.find_elements(By.CLASS_NAME, 'title-credit-name')\n",
    "        \n",
    "    except NoSuchElementException:\n",
    "        try:\n",
    "            actores = driver.find_element(By.CLASS_NAME, 'title-credit-name')\n",
    "        except NoSuchElementException:\n",
    "                actores = \"NAN\"\n",
    "                pass\n",
    "\n",
    "    lista_actores = []\n",
    "    for act in actores:\n",
    "        act = act.text.strip()\n",
    "        lista_actores.append(act)\n",
    "\n",
    "        \n",
    "    try:\n",
    "        sinopsis = driver.find_element(By.CLASS_NAME, 'paragraph').text\n",
    "        \n",
    "    except NoSuchElementException:\n",
    "        try:\n",
    "            sinopsis = driver.find_element(By.CLASS_NAME, 'paragraph').text\n",
    "        except NoSuchElementException:\n",
    "                sinopsis = \"NAN\"\n",
    "                pass\n",
    "\n",
    "    driver.quit()\n",
    "\n",
    "\n",
    "    titulos_lista_netflix.append(titulo)\n",
    "    año_lista_netflix.append(año)\n",
    "    genero_lista_netflix.append(genero)\n",
    "    actores_lista_netflix.append(lista_actores)\n",
    "    rating_lista_netflix.append(rating)\n",
    "\n"
   ]
  },
  {
   "cell_type": "code",
   "execution_count": 9,
   "metadata": {},
   "outputs": [
    {
     "name": "stdout",
     "output_type": "stream",
     "text": [
      "['Queen Charlotte: A Bridgerton Story', 'El silencio', 'Spider-Man: Un nuevo universo', 'La caza', 'La diplomática', 'FUBAR', 'The Good Doctor', 'Bronca', 'Better Call Saul', 'Black Knight']\n",
      "['2023', '2023', '2018', '2019', '2023', '2023', '2017', '2023', '2015', '2023']\n",
      "[['India Ria Amarteifio', 'Corey Mylchreest', 'Arsema Thomas', 'Golda Rosheuvel', 'Adjoa Andoh', 'Michelle Fairley', 'Ruth Gemmell', 'Sam Clemmett', 'Freddie Dennis', 'Hugh Sachs', 'Julie Andrews', 'Neil Edmond', 'Richard Cunningham'], ['Arón Piper', 'Almudena Amor', 'Cristina Kovani', 'Manu Ríos', 'Aitor Luna', 'Ramiro Blas', 'Aria Bedmar', 'Mikel Losada'], ['Peter Ramsey', 'Rodney Rothman', 'Bob Persichetti', '', '', '', 'Shameik Moore', 'Jake Johnson', 'Hailee Steinfeld', 'Mahershala Ali', 'Brian Tyree Henry', 'Lily Tomlin', 'Luna Lauren Velez', 'Zoë Kravitz', 'John Mulaney', 'Kimiko Glenn', 'Nicolas Cage', 'Kathryn Hahn', 'Liev Schreiber', 'Chris Pine', 'Natalie Morales', 'Edwin H. Bravo', 'Oscar Isaac', 'Greta Lee', 'Stan Lee', 'Jorma Taccone', 'Joaquín Cosío', \"Marvin 'Krondon' Jones III\", 'Kim Yarbrough', 'Lake Bell', 'Jessica Mikayla Adams', 'Gredel Berrios Calladine', 'Sarah D. Cole', 'Kelby Joseph', 'Mimi Davila', 'Claudia Choi', 'Melanie Haynes', 'Joseph Izzo', 'Nick Jaine', 'Muneeb Rehman', 'Carlos Zaragoza', 'Post Malone', 'David Applebee', 'Juan Carlos Arvelo', 'Adam Brown', 'Jon Bruno', 'Darcy Rose Byrnes', 'Oscar Camacho', 'June Christopher', 'Alycia Cooper', 'Michelle Jubilee Gonzalez', 'Terrence Hardy Jr.', 'Bridget Hoffman', 'Rif Hutton', 'Miguel Jiron', 'Harrison Knight', 'Lex Lang', 'Donna Lynn Leavy', 'Andrew Leviton', 'Caitlin McKenna', 'Scott Menville', 'Christopher Miller', 'Arthur Ortiz', 'Juan Pacheco', 'Devika Parikh', \"Shakira Ja'nai Paye\", 'Courtney Peldon', 'Chrystee Pharris', 'Jacqueline Pinol', 'Juan Pope', 'Al Rodrigo', 'Joseph Sanfelippo', 'Justin Shenkarow', 'Dennis Singletary', 'Warren Sroka', 'Melissa Sturm', 'Holly Walker', 'Jason Linere-White', 'Ruby Zalduondo', 'Ruth Zalduondo'], ['Alain Hernández', 'Beatriz Carvajal'], ['Keri Russell', 'Rufus Sewell', 'David Gyasi', 'Ali Ahn', 'Rory Kinnear', 'Ato Essandoh', 'Waseem Mirza'], ['Arnold Schwarzenegger', 'Monica Barbaro', 'Jay Baruchel', 'Aparna Brielle', 'Andy Buckley', 'Milan Carter', 'Fortune Feimster', 'Barbara Eve Harris', 'Gabriel Luna', 'Fabiana Udenio', 'Travis Van Winkle', 'Rehanshi Mirza', 'Adam Pally', 'Devon Bostick', 'Stephanie Sy', 'Christian Bako'], ['Freddie Highmore', 'Fiona Gubelmann', 'Will Yun Lee', 'Christina Chang', 'Paige Spara', 'Bria Samoné Henderson', 'Noah Galvin', 'Hill Harper', 'Richard Schiff'], ['Steven Yeun', 'Ali Wong', 'Joseph Lee', 'Young Mazino', 'David Choe', 'Patti Yasutake'], ['Bob Odenkirk', 'Jonathan Banks', 'Rhea Seehorn', 'Patrick Fabian', 'Michael Mando', 'Tony Dalton', 'Giancarlo Esposito'], ['Cho Ui-seok', '', 'Kim Woo-bin', 'Kang Yoo-seok', 'Esom', 'Song Seung-heon', 'Kim Eui-sung', 'Nam Kyung-eup', 'Jin Kyung', 'Roh Yoon-seo', 'Lee Ju-seung', 'Lee Sang-jin', 'Lee E-dam', 'Lee Soon-won', 'Heo Hyung-kyu', 'Bae Myung-jin', 'Yoo In-hyuk', 'Jang Mi-kwan', 'Zo Zee-an', 'Kim Gi-bang']]\n",
      "['Drama, Historia, Romance', 'Drama, Misterio & Suspense, Crimen', 'Ciencia ficción, Acción & Aventura, Animación, Fantasía, Comedia, Familia', 'Drama, Misterio & Suspense, Deporte, Crimen, Terror', 'Drama, Misterio & Suspense, Crimen', 'Misterio & Suspense, Acción & Aventura', 'Drama', 'Comedia, Drama', 'Crimen, Drama', 'Ciencia ficción, Acción & Aventura']\n",
      "['86%', '34%', '95%', '75%', '87%', '39%', '93%', '88%', '96%', '81%']\n",
      "['Contra su voluntad, Charlotte es prometida al rey Jorge III. Su decepción es aún mayor cuando llega a Londres y se da cuenta de que la familia real no es en absoluto lo que ella imaginaba. Pero este matrimonio es también una oportunidad para que Charlotte influya en la sociedad e inicie un profundo cambio.', 'La historia sigue a Sergio Ciscar (Arón Piper), un ex convicto que ha pasado seis años en prisión por el asesinato de sus padres cuando aún era menor de edad. Si bien el crimen ha quedado sin resolver, Sergio se ha negado a hablar sobre el tema durante su tiempo en la cárcel, lo que ha generado un misterioso silencio a su alrededor. Con este telón de fondo, la serie va revelando lentamente los detalles del caso y explorando las complejas emociones y motivaciones de los personajes implicados.', 'NAN', 'NAN', 'NAN', 'Luke Brunner ha pasado toda su carrera como agente de la CIA ocultando su identidad a su familia. Su hija Emma también es agente de la CIA, pero nunca reveló esa información a su padre. Cuando la verdad sale a la luz, padre e hija se dan cuenta de lo mucho que tienen en común y de lo poco que aún saben el uno del otro.', 'NAN', 'NAN', 'NAN', 'NAN']\n"
     ]
    }
   ],
   "source": [
    "print(titulos_lista_netflix)\n",
    "print(año_lista_netflix)\n",
    "print(actores_lista_netflix)\n",
    "print(genero_lista_netflix)\n",
    "print(rating_lista_netflix)"
   ]
  },
  {
   "cell_type": "code",
   "execution_count": 66,
   "metadata": {},
   "outputs": [],
   "source": [
    "dictio_netflix = {\n",
    "    'Titulo': titulos_lista_netflix,\n",
    "    'Año': año_lista_netflix,\n",
    "    'Genero': genero_lista_netflix,\n",
    "    'Actores': actores_lista_netflix,\n",
    "    'Genero': genero_lista_netflix,\n",
    "    'Rating': rating_lista_netflix,\n",
    "    'Sinopsis': sinopsis_lista_netflix,\n",
    "}\n",
    "\n"
   ]
  },
  {
   "cell_type": "code",
   "execution_count": 67,
   "metadata": {},
   "outputs": [],
   "source": [
    "df_netflix = pd.DataFrame(dictio_netflix)"
   ]
  },
  {
   "cell_type": "code",
   "execution_count": 69,
   "metadata": {},
   "outputs": [],
   "source": [
    "df_netflix['Genero'] = df_netflix['Genero'].str.split().str[0]# LIMPIEZA DE LA COLUMNA GENERO\n",
    " # Me quedo solo con el primer Genero\n",
    "df_netflix['Genero'] = df_netflix['Genero'].str.rstrip(',') # Para quitar la coma que se queda al final"
   ]
  },
  {
   "cell_type": "code",
   "execution_count": 72,
   "metadata": {},
   "outputs": [],
   "source": [
    "df_netflix['Actores'] = df_netflix['Actores'].str.join(', ')"
   ]
  },
  {
   "cell_type": "code",
   "execution_count": null,
   "metadata": {},
   "outputs": [],
   "source": []
  },
  {
   "cell_type": "code",
   "execution_count": null,
   "metadata": {},
   "outputs": [],
   "source": [
    "df_netflix.to_json('C:\\Users\\carlo\\Labs IronHack\\Final_Project_IH\\code\\films.json', orient='records')"
   ]
  },
  {
   "cell_type": "code",
   "execution_count": null,
   "metadata": {},
   "outputs": [],
   "source": []
  },
  {
   "cell_type": "code",
   "execution_count": null,
   "metadata": {},
   "outputs": [],
   "source": []
  }
 ],
 "metadata": {
  "kernelspec": {
   "display_name": "base",
   "language": "python",
   "name": "python3"
  },
  "language_info": {
   "codemirror_mode": {
    "name": "ipython",
    "version": 3
   },
   "file_extension": ".py",
   "mimetype": "text/x-python",
   "name": "python",
   "nbconvert_exporter": "python",
   "pygments_lexer": "ipython3",
   "version": "3.9.13"
  },
  "orig_nbformat": 4
 },
 "nbformat": 4,
 "nbformat_minor": 2
}
