{
 "cells": [
  {
   "cell_type": "code",
   "execution_count": 1,
   "metadata": {},
   "outputs": [],
   "source": [
    "import pandas as pd\n",
    "\n",
    "#Selenium\n",
    "from webdriver_manager.chrome import ChromeDriverManager\n",
    "from selenium.webdriver.common.by import By \n",
    "from selenium.webdriver.support.ui import WebDriverWait\n",
    "from selenium import webdriver\n",
    "from selenium.webdriver.chrome.options import Options\n",
    "from selenium.webdriver.chrome.service import Service\n",
    "from selenium.webdriver.support import expected_conditions as EC\n",
    "from selenium.common.exceptions import TimeoutException\n",
    "from selenium.common.exceptions import NoSuchElementException\n",
    "\n",
    "\n",
    "import time"
   ]
  },
  {
   "cell_type": "code",
   "execution_count": 2,
   "metadata": {},
   "outputs": [
    {
     "name": "stderr",
     "output_type": "stream",
     "text": [
      "C:\\Users\\carlo\\AppData\\Local\\Temp\\ipykernel_2472\\1130618026.py:6: DeprecationWarning: headless property is deprecated, instead use add_argument('--headless') or add_argument('--headless=new')\n",
      "  opciones.headless=False    # si True, no aperece la ventana (headless=no visible)\n"
     ]
    }
   ],
   "source": [
    "#driver configuration\n",
    "opciones=Options()\n",
    "\n",
    "opciones.add_experimental_option('excludeSwitches', ['enable-automation'])\n",
    "opciones.add_experimental_option('useAutomationExtension', False)\n",
    "opciones.headless=False    # si True, no aperece la ventana (headless=no visible)\n",
    "opciones.add_argument('--start-maximized')         # comienza maximizado\n",
    "opciones.add_argument('user-data-dir=selenium')    # mantiene las cookies\n",
    "opciones.add_argument('--incognito')"
   ]
  },
  {
   "attachments": {},
   "cell_type": "markdown",
   "metadata": {},
   "source": [
    "netflix_films = pd.read_csv('../Netflix/netflix_titles.csv')\n",
    "netflix_actor = pd.read_csv('../Netflix/netflix_credits.csv')\n",
    "\n",
    "hbo_film = pd.read_csv('../HBO Max/hbo_titles.csv')\n",
    "hbo_actor = pd.read_csv('../HBO Max/hbo_credits.csv')\n",
    "\n",
    "disney_films = pd.read_csv('../Disney +/disney_titles.csv')\n",
    "disney_actor = pd.read_csv('../Disney +/disney_credits.csv')\n",
    "\n",
    "amazon_films = pd.read_csv('../Amazon Prime Video/amazon_titles.csv')\n",
    "amazon_actor = pd.read_csv('../Amazon Prime Video/amazon_credits.csv')"
   ]
  },
  {
   "cell_type": "code",
   "execution_count": 3,
   "metadata": {},
   "outputs": [],
   "source": [
    "url_netflix = 'https://www.justwatch.com/es/proveedor/netflix'\n",
    "url_amazon = 'https://www.justwatch.com/es/proveedor/amazon-prime-video'\n",
    "url_disney = 'https://www.justwatch.com/es/proveedor/disney-plus'\n",
    "url_hbo = 'https://www.justwatch.com/es/proveedor/hbo-max'"
   ]
  },
  {
   "cell_type": "code",
   "execution_count": 4,
   "metadata": {},
   "outputs": [],
   "source": [
    "from selenium.webdriver.chrome.options import Options\n",
    "\n",
    "# opciones del driver\n",
    "opciones=Options()\n",
    "\n",
    "# quita la bandera de ser robot\n",
    "opciones.add_experimental_option('excludeSwitches', ['enable-automation'])\n",
    "opciones.add_experimental_option('useAutomationExtension', False)\n",
    "\n",
    "# guardar las cookies\n",
    "opciones.add_argument('user-data-dir=cookies')    # mantiene las coockies\n",
    "\n",
    "# quita la bandera de ser robot\n",
    "opciones.add_experimental_option('excludeSwitches', ['enable-automation'])\n",
    "opciones.add_experimental_option('useAutomationExtension', False)"
   ]
  },
  {
   "cell_type": "code",
   "execution_count": 5,
   "metadata": {},
   "outputs": [
    {
     "name": "stderr",
     "output_type": "stream",
     "text": [
      "[WDM] - Downloading: 100%|██████████| 6.81M/6.81M [00:02<00:00, 2.48MB/s]\n",
      "C:\\Users\\carlo\\AppData\\Local\\Temp\\ipykernel_2472\\1453511477.py:3: DeprecationWarning: executable_path has been deprecated, please pass in a Service object\n",
      "  driver = webdriver.Chrome(PATH)      # abre una ventana de chrome\n"
     ]
    }
   ],
   "source": [
    "PATH = ChromeDriverManager().install()    # instala driver de chrome\n",
    "\n",
    "driver = webdriver.Chrome(PATH)      # abre una ventana de chrome\n",
    "\n",
    "# Navegar a la página\n",
    "driver.get('https://www.justwatch.com/es/proveedor/netflix')\n",
    "\n",
    "time.sleep(5)\n",
    "\n",
    "shadow_parent = driver.find_element(By.CSS_SELECTOR, '#usercentrics-root')\n",
    "outer = driver.execute_script('return arguments[0].shadowRoot', shadow_parent)\n",
    "inner = outer.find_element(By.CSS_SELECTOR, 'button[data-testid=\"uc-accept-all-button\"]')\n",
    "inner.click()\n",
    "\n",
    "time.sleep(5)\n",
    "\n",
    "for i in range(60):\n",
    "    driver.execute_script(\"window.scrollTo(0, document.body.scrollHeight);\") # todo el scroll\n",
    "    time.sleep(3)\n",
    "\n",
    "\n",
    "# Sacar los nombres de las peliculas\n",
    "results_netflix = driver.find_elements(By.CLASS_NAME,'title-list-grid__item--link')\n",
    "results_netflix\n",
    "\n",
    "hipervinculos = []\n",
    "for link in results_netflix:\n",
    "    link = link.get_attribute('href')\n",
    "    hipervinculos.append(link)\n",
    "\n",
    "titles_netflix = []\n",
    "for url in hipervinculos:\n",
    "    parts = url.split('/')\n",
    "    last_part = parts[-1]\n",
    "    title = last_part.replace('-', ' ')\n",
    "    title = title.capitalize()\n",
    "    titles_netflix.append(title)\n",
    "    \n",
    "titles_netflix\n",
    "\n",
    "# Cerrar el navegador\n",
    "driver.quit()"
   ]
  },
  {
   "cell_type": "code",
   "execution_count": 6,
   "metadata": {},
   "outputs": [
    {
     "data": {
      "text/plain": [
       "['https://www.justwatch.com/es/serie/bridgerton-young-queen-charlotte-spinoff',\n",
       " 'https://www.justwatch.com/es/serie/el-silencio',\n",
       " 'https://www.justwatch.com/es/pelicula/spider-man-un-nuevo-universo',\n",
       " 'https://www.justwatch.com/es/serie/la-caza-monteperdido',\n",
       " 'https://www.justwatch.com/es/serie/the-diplomat',\n",
       " 'https://www.justwatch.com/es/serie/fubar',\n",
       " 'https://www.justwatch.com/es/serie/the-good-doctor',\n",
       " 'https://www.justwatch.com/es/serie/beef',\n",
       " 'https://www.justwatch.com/es/serie/better-call-saul',\n",
       " 'https://www.justwatch.com/es/serie/black-knight']"
      ]
     },
     "execution_count": 6,
     "metadata": {},
     "output_type": "execute_result"
    }
   ],
   "source": [
    "hipervinculos_prueba = hipervinculos[0:10]\n",
    "hipervinculos_prueba"
   ]
  },
  {
   "cell_type": "code",
   "execution_count": 17,
   "metadata": {},
   "outputs": [
    {
     "name": "stderr",
     "output_type": "stream",
     "text": [
      "C:\\Users\\carlo\\AppData\\Local\\Temp\\ipykernel_2472\\59940597.py:3: DeprecationWarning: executable_path has been deprecated, please pass in a Service object\n",
      "  driver = webdriver.Chrome(PATH)      # abre una ventana de chrome\n"
     ]
    }
   ],
   "source": [
    "PATH = ChromeDriverManager().install()    # instala driver de chrome\n",
    "\n",
    "driver = webdriver.Chrome(PATH)      # abre una ventana de chrome\n",
    "\n",
    "driver.get('https://www.justwatch.com/es/serie/bridgerton-young-queen-charlotte-spinoff')\n",
    "\n",
    "time.sleep(3)\n",
    "\n",
    "shadow_parent = driver.find_element(By.CSS_SELECTOR, '#usercentrics-root')\n",
    "outer = driver.execute_script('return arguments[0].shadowRoot', shadow_parent)\n",
    "inner = outer.find_element(By.CSS_SELECTOR, 'button[data-testid=\"uc-accept-all-button\"]')\n",
    "inner.click()\n",
    "\n",
    "genero = driver.find_elements(By.CLASS_NAME, 'detail-infos__value')\n",
    "\n",
    "lista_genero = []\n",
    "for gen in genero:\n",
    "    gen = gen.text.strip()\n",
    "    lista_genero.append(gen)\n",
    "\n",
    "lista_genero = lista_genero[1]\n",
    "\n",
    "\n",
    "rating = driver.find_element(By.CLASS_NAME, 'jw-scoring-listing__rating').text"
   ]
  },
  {
   "cell_type": "code",
   "execution_count": 8,
   "metadata": {},
   "outputs": [
    {
     "name": "stderr",
     "output_type": "stream",
     "text": [
      "C:\\Users\\carlo\\AppData\\Local\\Temp\\ipykernel_14584\\2549927397.py:11: DeprecationWarning: executable_path has been deprecated, please pass in a Service object\n",
      "  driver = webdriver.Chrome(PATH)      # abre una ventana de chrome\n"
     ]
    },
    {
     "ename": "AttributeError",
     "evalue": "'list' object has no attribute 'text'",
     "output_type": "error",
     "traceback": [
      "\u001b[1;31m---------------------------------------------------------------------------\u001b[0m",
      "\u001b[1;31mAttributeError\u001b[0m                            Traceback (most recent call last)",
      "\u001b[1;32m~\\AppData\\Local\\Temp\\ipykernel_14584\\2549927397.py\u001b[0m in \u001b[0;36m<module>\u001b[1;34m\u001b[0m\n\u001b[0;32m     60\u001b[0m \u001b[1;33m\u001b[0m\u001b[0m\n\u001b[0;32m     61\u001b[0m     \u001b[1;32mtry\u001b[0m\u001b[1;33m:\u001b[0m\u001b[1;33m\u001b[0m\u001b[1;33m\u001b[0m\u001b[0m\n\u001b[1;32m---> 62\u001b[1;33m         \u001b[0mactores\u001b[0m \u001b[1;33m=\u001b[0m \u001b[0mdriver\u001b[0m\u001b[1;33m.\u001b[0m\u001b[0mfind_elements\u001b[0m\u001b[1;33m(\u001b[0m\u001b[0mBy\u001b[0m\u001b[1;33m.\u001b[0m\u001b[0mCLASS_NAME\u001b[0m\u001b[1;33m,\u001b[0m \u001b[1;34m'title-credit-name'\u001b[0m\u001b[1;33m)\u001b[0m\u001b[1;33m.\u001b[0m\u001b[0mtext\u001b[0m\u001b[1;33m\u001b[0m\u001b[1;33m\u001b[0m\u001b[0m\n\u001b[0m\u001b[0;32m     63\u001b[0m \u001b[1;33m\u001b[0m\u001b[0m\n\u001b[0;32m     64\u001b[0m     \u001b[1;32mexcept\u001b[0m \u001b[0mNoSuchElementException\u001b[0m\u001b[1;33m:\u001b[0m\u001b[1;33m\u001b[0m\u001b[1;33m\u001b[0m\u001b[0m\n",
      "\u001b[1;31mAttributeError\u001b[0m: 'list' object has no attribute 'text'"
     ]
    }
   ],
   "source": [
    "titulos_lista_netflix = []\n",
    "año_lista_netflix = []\n",
    "sinopsis_lista_netflix = []\n",
    "genero_lista_netflix = []\n",
    "actores_lista_netflix = []\n",
    "rating_lista_netflix = []\n",
    "\n",
    "for i in hipervinculos_prueba:\n",
    "\n",
    "    PATH = ChromeDriverManager().install()    # instala driver de chrome\n",
    "\n",
    "    driver = webdriver.Chrome(PATH)      # abre una ventana de chrome\n",
    "\n",
    "    driver.get(i)\n",
    "\n",
    "    time.sleep(5)\n",
    "\n",
    "    shadow_parent = driver.find_element(By.CSS_SELECTOR, '#usercentrics-root')\n",
    "    outer = driver.execute_script('return arguments[0].shadowRoot', shadow_parent)\n",
    "    inner = outer.find_element(By.CSS_SELECTOR, 'button[data-testid=\"uc-accept-all-button\"]')\n",
    "    inner.click()\n",
    "\n",
    "    time.sleep(2)\n",
    "\n",
    "    driver.execute_script(\"window.scrollTo(0, document.body.scrollHeight);\") # todo el scroll\n",
    "\n",
    "\n",
    "    try:\n",
    "        titulo = driver.find_element(By.XPATH, '//*[@id=\"base\"]/div[2]/div/div[2]/div[2]/div[1]/div[1]/div/h1').text\n",
    "        \n",
    "    except NoSuchElementException:\n",
    "        try:\n",
    "            titulo = driver.find_element(By.XPATH, '//*[@id=\"base\"]/div[2]/div/div[2]/div[2]/div[1]/div[1]/div/h1').text\n",
    "        except NoSuchElementException:\n",
    "                titulo = \"NAN\"\n",
    "                pass\n",
    "\n",
    "      \n",
    "    try:\n",
    "        año = driver.find_element(By.XPATH, '//*[@id=\"base\"]/div[2]/div/div[2]/div[2]/div[1]/div[1]/div/span').text.split('(')[1]\n",
    "        año = año.split(')')[0]\n",
    "        \n",
    "    except NoSuchElementException:\n",
    "        try:\n",
    "            año = driver.find_element(By.XPATH, '//*[@id=\"base\"]/div[2]/div/div[2]/div[2]/div[1]/div[1]/div/span').text.split('(')[1]\n",
    "            año = año.split(')')[0]\n",
    "        except NoSuchElementException:\n",
    "                año = \"NAN\"\n",
    "                pass\n",
    "        \n",
    "    try:\n",
    "        genero = driver.find_elements(By.CLASS_NAME, 'detail-infos__value')\n",
    "        \n",
    "    except NoSuchElementException:\n",
    "        try:\n",
    "            genero = driver.find_elements(By.CLASS_NAME, 'detail-infos__value')\n",
    "        except NoSuchElementException:\n",
    "                genero = \"NAN\"\n",
    "                pass\n",
    "        \n",
    "    lista_genero = []\n",
    "    for gen in genero:\n",
    "        gen = gen.text.strip()\n",
    "        lista_genero.append(gen)\n",
    "\n",
    "    genero = lista_genero[1]\n",
    "\n",
    "\n",
    "    try:\n",
    "        rating = driver.find_element(By.CLASS_NAME, 'jw-scoring-listing__rating').text\n",
    "        \n",
    "    except NoSuchElementException:\n",
    "        try:\n",
    "            rating = driver.find_element(By.CLASS_NAME, 'jw-scoring-listing__rating').text\n",
    "        except NoSuchElementException:\n",
    "                rating = \"NAN\"\n",
    "                pass\n",
    "\n",
    "\n",
    "    try:\n",
    "        actores = driver.find_elements(By.CLASS_NAME, 'title-credit-name').text\n",
    "        \n",
    "    except NoSuchElementException:\n",
    "        try:\n",
    "            actores = driver.find_element(By.CLASS_NAME, 'title-credit-name').text\n",
    "        except NoSuchElementException:\n",
    "                actores = \"NAN\"\n",
    "                pass\n",
    "\n",
    "        \n",
    "    driver.quit()\n",
    "\n",
    "\n",
    "    titulos_lista_netflix.append(titulo)\n",
    "    año_lista_netflix.append(año)\n",
    "    genero_lista_netflix.append(genero)\n",
    "    actores_lista_netflix.append(actores)\n",
    "    rating_lista_netflix.append(rating)\n"
   ]
  },
  {
   "cell_type": "code",
   "execution_count": null,
   "metadata": {},
   "outputs": [],
   "source": [
    "print(titulos_lista_netflix)\n",
    "print(año_lista_netflix)\n",
    "print(actor_principal_lista_netflix)"
   ]
  },
  {
   "cell_type": "code",
   "execution_count": null,
   "metadata": {},
   "outputs": [],
   "source": [
    "dictio_netflix = {\n",
    "    'Titulo': titulos_lista_netflix,\n",
    "    'Año': año_lista_netflix,\n",
    "    'Genero': genero_lista_netflix,\n",
    "    'Actores': actores_lista_netflix\n",
    "}\n",
    "\n",
    "# df_netflix.to_json('C:\\Users\\carlo\\Labs IronHack\\Final_Project_IH\\code\\films.json', orient='records')"
   ]
  },
  {
   "cell_type": "code",
   "execution_count": null,
   "metadata": {},
   "outputs": [],
   "source": [
    "df_netflix = pd.DataFrame(dictio_netflix)"
   ]
  },
  {
   "cell_type": "code",
   "execution_count": null,
   "metadata": {},
   "outputs": [],
   "source": [
    "'''\n",
    "\n",
    "PATH = ChromeDriverManager().install()    # instala driver de chrome\n",
    "\n",
    "driver = webdriver.Chrome(PATH)      # abre una ventana de chrome\n",
    "\n",
    "driver.get('https://www.justwatch.com/es/serie/la-caza-monteperdido')\n",
    "\n",
    "time.sleep(5)\n",
    "\n",
    "shadow_parent = driver.find_element(By.CSS_SELECTOR, '#usercentrics-root')\n",
    "outer = driver.execute_script('return arguments[0].shadowRoot', shadow_parent)\n",
    "inner = outer.find_element(By.CSS_SELECTOR, 'button[data-testid=\"uc-accept-all-button\"]')\n",
    "inner.click()\n",
    "\n",
    "time.sleep(2)\n",
    "\n",
    "driver.execute_script(\"window.scrollTo(0, document.body.scrollHeight);\") # todo el scroll\n",
    "\n",
    "actores = driver.find_elements(By.CLASS_NAME, 'title-credit-name')\n",
    "\n",
    "lista_nombres = []\n",
    "for nom in actores:\n",
    "    nom = nom.text.strip()\n",
    "    lista_nombres.append(nom)\n",
    "\n",
    "'''"
   ]
  }
 ],
 "metadata": {
  "kernelspec": {
   "display_name": "base",
   "language": "python",
   "name": "python3"
  },
  "language_info": {
   "codemirror_mode": {
    "name": "ipython",
    "version": 3
   },
   "file_extension": ".py",
   "mimetype": "text/x-python",
   "name": "python",
   "nbconvert_exporter": "python",
   "pygments_lexer": "ipython3",
   "version": "3.9.13"
  },
  "orig_nbformat": 4
 },
 "nbformat": 4,
 "nbformat_minor": 2
}
