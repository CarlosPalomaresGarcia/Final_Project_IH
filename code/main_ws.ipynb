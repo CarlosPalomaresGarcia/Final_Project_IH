{
 "cells": [
  {
   "cell_type": "code",
   "execution_count": 1,
   "metadata": {},
   "outputs": [],
   "source": [
    "import pandas as pd\n",
    "\n",
    "#Selenium\n",
    "from webdriver_manager.chrome import ChromeDriverManager\n",
    "from selenium.webdriver.common.by import By \n",
    "from selenium.webdriver.support.ui import WebDriverWait\n",
    "from selenium import webdriver\n",
    "from selenium.webdriver.chrome.options import Options\n",
    "from selenium.webdriver.chrome.service import Service\n",
    "from selenium.webdriver.support import expected_conditions as EC\n",
    "from selenium.common.exceptions import TimeoutException, NoSuchElementException\n",
    "\n",
    "\n",
    "import time"
   ]
  },
  {
   "cell_type": "code",
   "execution_count": 2,
   "metadata": {},
   "outputs": [
    {
     "name": "stderr",
     "output_type": "stream",
     "text": [
      "C:\\Users\\carlo\\AppData\\Local\\Temp\\ipykernel_15640\\1130618026.py:6: DeprecationWarning: headless property is deprecated, instead use add_argument('--headless') or add_argument('--headless=new')\n",
      "  opciones.headless=False    # si True, no aperece la ventana (headless=no visible)\n"
     ]
    }
   ],
   "source": [
    "#driver configuration\n",
    "opciones=Options()\n",
    "\n",
    "opciones.add_experimental_option('excludeSwitches', ['enable-automation'])\n",
    "opciones.add_experimental_option('useAutomationExtension', False)\n",
    "opciones.headless=False    # si True, no aperece la ventana (headless=no visible)\n",
    "opciones.add_argument('--start-maximized')         # comienza maximizado\n",
    "opciones.add_argument('user-data-dir=selenium')    # mantiene las cookies\n",
    "opciones.add_argument('--incognito')"
   ]
  },
  {
   "cell_type": "code",
   "execution_count": 3,
   "metadata": {},
   "outputs": [],
   "source": [
    "url_noeleccion = 'https://www.justwatch.com/es'   # Web vacia\n",
    "\n",
    "url_netflix = 'https://www.justwatch.com/es/proveedor/netflix'\n",
    "url_amazon = 'https://www.justwatch.com/es/proveedor/amazon-prime-video'\n",
    "url_disney = 'https://www.justwatch.com/es/proveedor/disney-plus'\n",
    "url_hbo = 'https://www.justwatch.com/es/proveedor/hbo-max'"
   ]
  },
  {
   "cell_type": "code",
   "execution_count": 4,
   "metadata": {},
   "outputs": [],
   "source": [
    "from selenium.webdriver.chrome.options import Options\n",
    "\n",
    "# opciones del driver\n",
    "opciones=Options()\n",
    "\n",
    "# quita la bandera de ser robot\n",
    "opciones.add_experimental_option('excludeSwitches', ['enable-automation'])\n",
    "opciones.add_experimental_option('useAutomationExtension', False)\n",
    "\n",
    "# guardar las cookies\n",
    "opciones.add_argument('user-data-dir=cookies')    # mantiene las coockies"
   ]
  },
  {
   "cell_type": "code",
   "execution_count": 10,
   "metadata": {},
   "outputs": [
    {
     "name": "stderr",
     "output_type": "stream",
     "text": [
      "C:\\Users\\carlo\\AppData\\Local\\Temp\\ipykernel_15640\\3124168352.py:9: DeprecationWarning: executable_path has been deprecated, please pass in a Service object\n",
      "  driver = webdriver.Chrome(driver_path, options=options)\n"
     ]
    }
   ],
   "source": [
    "# Ruta al controlador del navegador (en este caso, Chrome)\n",
    "driver_path = 'ruta_al_controlador_del_navegador'\n",
    "\n",
    "# Configurar opciones para el navegador\n",
    "options = webdriver.ChromeOptions()\n",
    "# options.add_argument('--headless')  # Descomenta esta línea si deseas ejecutar el navegador en modo sin cabeza\n",
    "\n",
    "# Crear una instancia del navegador\n",
    "driver = webdriver.Chrome(driver_path, options=options)\n",
    "\n",
    "# Navegar a la página\n",
    "driver.get('https://www.justwatch.com/es/proveedor/netflix')\n",
    "\n",
    "# Esperar a que aparezca la ventana emergente de cookies\n",
    "try:\n",
    "    wait = WebDriverWait(driver, 10)\n",
    "    accept_button = wait.until(EC.visibility_of_element_located((By.CSS_SELECTOR, 'button[data-testid=\"uc-accept-all-button\"]')))\n",
    "    accept_button.click()\n",
    "except (TimeoutException, NoSuchElementException):\n",
    "    pass\n",
    "\n",
    "# Realizar otras acciones en la página si es necesario\n",
    "\n",
    "# Cerrar el navegador\n",
    "#driver.quit()\n"
   ]
  },
  {
   "cell_type": "code",
   "execution_count": 6,
   "metadata": {},
   "outputs": [
    {
     "data": {
      "text/plain": [
       "['Bridgerton young queen charlotte spinoff',\n",
       " 'The diplomat',\n",
       " 'La caza monteperdido',\n",
       " 'El silencio',\n",
       " 'Beef',\n",
       " 'Better call saul',\n",
       " 'The good doctor',\n",
       " 'Black knight',\n",
       " 'The night agent',\n",
       " 'The office 2005',\n",
       " 'Fubar',\n",
       " 'The walking dead',\n",
       " 'Spider man un nuevo universo',\n",
       " 'Snatch cerdos y diamantes',\n",
       " 'Breaking bad',\n",
       " 'Sweet tooth',\n",
       " 'The mother',\n",
       " 'Welcome to eden',\n",
       " 'Tenet',\n",
       " 'The blacklist',\n",
       " 'Outlander',\n",
       " 'Wednesday',\n",
       " 'Malditos bastardos',\n",
       " 'Ataque a los titanes',\n",
       " 'Los pacientes del doctor garcia',\n",
       " 'Robokapolri ssongssongmyujieom',\n",
       " 'Pulp fiction',\n",
       " 'Peaky blinders',\n",
       " 'Maixabel',\n",
       " 'Heat',\n",
       " 'New amsterdam',\n",
       " 'Vinland saga',\n",
       " 'El padrino',\n",
       " 'Django desencadenado',\n",
       " 'Fast y furious hobbs y shaw',\n",
       " 'Black mirror',\n",
       " 'El baile de las luciernagas',\n",
       " 'Shadow and bone',\n",
       " 'Tin y tina',\n",
       " 'Aka']"
      ]
     },
     "execution_count": 6,
     "metadata": {},
     "output_type": "execute_result"
    }
   ],
   "source": [
    "results_netflix = driver.find_elements(By.CLASS_NAME,'title-list-grid__item--link')\n",
    "results_netflix\n",
    "\n",
    "hipervinculos = []\n",
    "for link in results_netflix:\n",
    "    link = link.get_attribute('href')\n",
    "    hipervinculos.append(link)\n",
    "\n",
    "titles = []\n",
    "for url in hipervinculos:\n",
    "    parts = url.split('/')\n",
    "    last_part = parts[-1]\n",
    "    title = last_part.replace('-', ' ')\n",
    "    title = title.capitalize()\n",
    "    titles.append(title)\n",
    "    \n",
    "titles"
   ]
  },
  {
   "cell_type": "code",
   "execution_count": 9,
   "metadata": {},
   "outputs": [
    {
     "data": {
      "text/plain": [
       "40"
      ]
     },
     "execution_count": 9,
     "metadata": {},
     "output_type": "execute_result"
    }
   ],
   "source": [
    "len(titles)"
   ]
  },
  {
   "attachments": {},
   "cell_type": "markdown",
   "metadata": {},
   "source": [
    "# PARALELIZACION"
   ]
  },
  {
   "attachments": {},
   "cell_type": "markdown",
   "metadata": {},
   "source": [
    "Pasos a seguir:\n",
    "\n",
    "Entrar en la web\n",
    "\n",
    "Aceptar cookies/drivers\n",
    "\n",
    "Pinchar en Netflix / Amazon / HBO Max / Disney +\n",
    "\n",
    "Scrolear hasta abajo para que salgan todas las peliculas.\n",
    "\n",
    "Scrapear los links.\n",
    "\n",
    "\n",
    "AUTOMATIZAR LOS DATOS DE CADA PELICULA\n",
    "\n",
    "Con un bucle iterar por cada web.\n",
    "\n",
    "Sacar la info de cada serie/pelicula"
   ]
  },
  {
   "cell_type": "code",
   "execution_count": null,
   "metadata": {},
   "outputs": [],
   "source": [
    "# Para pillar los datos de la web. Coger distintos datos de la web.\n",
    "\n",
    "nombre = driver.find_element(By.XPATH, '//*[@id=\"ember30\"]/div[2]/div[2]/div[1]/div[1]/h1').text\n",
    "\n",
    "titulo = driver.find_element(By.CSS_SELECTOR, 'div.ph5.pb5 > div.mt2.relative > div:nth-child(1) > div.text-body-medium.break-words').text\n",
    "\n",
    "lugar = driver.find_element(By.CLASS_NAME, 'text-body-small.inline.t-black--light.break-words').text\n",
    "\n",
    "lugar"
   ]
  },
  {
   "cell_type": "code",
   "execution_count": null,
   "metadata": {},
   "outputs": [],
   "source": [
    "from selenium import webdriver\n",
    "from selenium.webdriver.common.by import By\n",
    "\n",
    "import time\n",
    "\n",
    "import pandas as pd\n",
    "\n",
    "from webdriver_manager.chrome import ChromeDriverManager\n",
    "\n",
    "PATH=ChromeDriverManager().install()"
   ]
  },
  {
   "cell_type": "code",
   "execution_count": null,
   "metadata": {},
   "outputs": [],
   "source": [
    "driver=webdriver.Chrome(PATH)\n",
    "driver.get(url)\n",
    "    \n",
    "time.sleep(2)\n",
    "\n",
    "aceptar = driver.find_element(By.XPATH, '//*[@id=\"onetrust-accept-btn-handler\"]')\n",
    "aceptar.click()\n",
    "\n",
    "time.sleep(4)\n",
    "\n",
    "equipos = driver.find_element(By.CSS_SELECTOR, '#fittPageContainer > div.page-container.cf > div > div.layout__column.layout__column--1 > div > div:nth-child(3) > div:nth-child(1) > div > div:nth-child(5) > div > section > div > div > span:nth-child(2) > a')\n",
    "equipos.click()\n",
    "\n",
    "\n",
    "time.sleep(2)\n",
    "\n",
    "equipos_stats_urls=driver.find_elements(By.CSS_SELECTOR, 'a.AnchorLink')\n",
    "\n",
    "equipos_stats_urls=[e.get_attribute('href') for e in equipos_stats_urls \n",
    "                    if 'team/stats' in e.get_attribute('href')]\n",
    "\n",
    "\n",
    "equipos_stats_urls"
   ]
  },
  {
   "cell_type": "code",
   "execution_count": null,
   "metadata": {},
   "outputs": [],
   "source": [
    "driver.quit()"
   ]
  },
  {
   "cell_type": "code",
   "execution_count": null,
   "metadata": {},
   "outputs": [],
   "source": [
    "def extraer(url):\n",
    "\n",
    "    # inicia el driver\n",
    "    driver=webdriver.Chrome(PATH)\n",
    "    driver.get(url)\n",
    "\n",
    "    time.sleep(2)\n",
    "\n",
    "    # acepta cookies\n",
    "    aceptar=driver.find_element(By.XPATH, '//*[@id=\"onetrust-accept-btn-handler\"]')\n",
    "    aceptar.click()\n",
    "\n",
    "    time.sleep(2)\n",
    "    \n",
    "    # disciplina\n",
    "    dis=driver.find_element(By.XPATH, '//*[@id=\"fittPageContainer\"]/div[2]/div[5]/div/div[1]/section/div/div[2]/nav/ul/li[2]/a')\n",
    "    dis.click()\n",
    "\n",
    "    time.sleep(2)\n",
    "    \n",
    "    tabla=driver.find_element(By.TAG_NAME, 'tbody')\n",
    "\n",
    "    filas=tabla.find_elements(By.TAG_NAME, 'tr')\n",
    "\n",
    "\n",
    "    data=[]\n",
    "\n",
    "    for f in filas:\n",
    "\n",
    "        elementos=f.find_elements(By.TAG_NAME, 'td') \n",
    "\n",
    "        tmp=[]\n",
    "\n",
    "        for e in elementos:\n",
    "\n",
    "            tmp.append(e.text)\n",
    "            \n",
    "        tmp.append(url.split('/')[-1])  # nombre del equipo\n",
    "        data.append(tmp)\n",
    "        \n",
    "\n",
    "    cabeceras=driver.find_element(By.TAG_NAME, 'thead')\n",
    "\n",
    "    cabeceras=[c.text for c in cabeceras.find_elements(By.TAG_NAME, 'th')]+['TEAM']\n",
    "    \n",
    "    \n",
    "    driver.quit()\n",
    "    \n",
    "    return pd.DataFrame(data, columns=cabeceras)"
   ]
  },
  {
   "cell_type": "code",
   "execution_count": null,
   "metadata": {},
   "outputs": [],
   "source": [
    "parelelo = Parallel(n_jobs=6, verbose=True)\n",
    "\n",
    "\n",
    "lst_df = parelelo(delayed(extraer)(url) for url in equipos_stats_urls)"
   ]
  },
  {
   "cell_type": "code",
   "execution_count": null,
   "metadata": {},
   "outputs": [],
   "source": [
    "len(lst_df)"
   ]
  },
  {
   "cell_type": "code",
   "execution_count": null,
   "metadata": {},
   "outputs": [],
   "source": [
    "len(equipos_stats_urls)"
   ]
  },
  {
   "cell_type": "code",
   "execution_count": null,
   "metadata": {},
   "outputs": [],
   "source": [
    "df = pd.concat(lst_df)"
   ]
  },
  {
   "cell_type": "code",
   "execution_count": null,
   "metadata": {},
   "outputs": [],
   "source": [
    "df.shape"
   ]
  },
  {
   "cell_type": "code",
   "execution_count": null,
   "metadata": {},
   "outputs": [],
   "source": []
  },
  {
   "cell_type": "code",
   "execution_count": null,
   "metadata": {},
   "outputs": [],
   "source": []
  },
  {
   "cell_type": "code",
   "execution_count": null,
   "metadata": {},
   "outputs": [],
   "source": []
  },
  {
   "cell_type": "code",
   "execution_count": null,
   "metadata": {},
   "outputs": [],
   "source": []
  }
 ],
 "metadata": {
  "kernelspec": {
   "display_name": "base",
   "language": "python",
   "name": "python3"
  },
  "language_info": {
   "codemirror_mode": {
    "name": "ipython",
    "version": 3
   },
   "file_extension": ".py",
   "mimetype": "text/x-python",
   "name": "python",
   "nbconvert_exporter": "python",
   "pygments_lexer": "ipython3",
   "version": "3.9.13"
  },
  "orig_nbformat": 4
 },
 "nbformat": 4,
 "nbformat_minor": 2
}
